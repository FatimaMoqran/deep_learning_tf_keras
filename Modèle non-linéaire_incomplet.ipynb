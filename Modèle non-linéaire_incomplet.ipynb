{
 "cells": [
  {
   "cell_type": "code",
   "execution_count": 9,
   "metadata": {},
   "outputs": [],
   "source": [
    "# Tensorflow : le package de Deep Learning que nous allons utiliser\n",
    "import tensorflow as tf\n",
    "\n",
    "# Gestion des tableaux de données\n",
    "import numpy as np\n",
    "\n",
    "# Visualisation\n",
    "from matplotlib import pyplot as plt\n",
    "%matplotlib inline"
   ]
  },
  {
   "cell_type": "code",
   "execution_count": 10,
   "metadata": {},
   "outputs": [],
   "source": [
    "# Création des données avec lesquelles nous allons entraîner le modèle\n",
    "# N'hésitez pas à changer la fonction\n",
    "true_function = lambda x: 0.2*x**3 + 0.8*x**2 + 0.3*x + 0.3 + 5*np.sin(x)\n",
    "\n",
    "X = np.random.uniform(-10, 10, size=100).reshape(-1, 1)\n",
    "y = true_function(X)\n",
    "true_y = y.copy()\n",
    "y[:90] += np.random.randn(90, 1)*5\n",
    "y[:10] += np.random.randn(10, 1)*100"
   ]
  },
  {
   "cell_type": "code",
   "execution_count": 11,
   "metadata": {},
   "outputs": [
    {
     "data": {
      "text/plain": [
       "<matplotlib.collections.PathCollection object at 0x00000165E9A1E9A0>"
      ]
     },
     "execution_count": 11,
     "metadata": {},
     "output_type": "execute_result"
    },
    {
     "data": {
      "image/png": "[encoded data removed]",
      "text/plain": [
       "<Figure size 432x288 with 1 Axes>"
      ]
     },
     "metadata": {
      "needs_background": "light"
     },
     "output_type": "display_data"
    }
   ],
   "source": [
    "# Visualisation des données\n",
    "plt.scatter(X, y)"
   ]
  },
  {
   "cell_type": "code",
   "execution_count": 5,
   "metadata": {},
   "outputs": [
    {
     "name": "stdout",
     "output_type": "stream",
     "text": [
      "Epoch 1/100\n",
      "4/4 [==============================] - 0s 3ms/step - loss: 7062.5562\n",
      "Epoch 2/100\n",
      "4/4 [==============================] - 0s 3ms/step - loss: 6807.8281\n",
      "Epoch 3/100\n",
      "4/4 [==============================] - 0s 4ms/step - loss: 6539.2983\n",
      "Epoch 4/100\n",
      "4/4 [==============================] - 0s 3ms/step - loss: 6157.8989\n",
      "Epoch 5/100\n",
      "4/4 [==============================] - 0s 3ms/step - loss: 5603.8105\n",
      "Epoch 6/100\n",
      "4/4 [==============================] - 0s 4ms/step - loss: 4893.3511\n",
      "Epoch 7/100\n",
      "4/4 [==============================] - 0s 3ms/step - loss: 4128.2661\n",
      "Epoch 8/100\n",
      "4/4 [==============================] - 0s 3ms/step - loss: 3295.1956\n",
      "Epoch 9/100\n",
      "4/4 [==============================] - 0s 3ms/step - loss: 2853.5347\n",
      "Epoch 10/100\n",
      "4/4 [==============================] - 0s 3ms/step - loss: 2732.3616\n",
      "Epoch 11/100\n",
      "4/4 [==============================] - 0s 3ms/step - loss: 2717.7788\n",
      "Epoch 12/100\n",
      "4/4 [==============================] - 0s 3ms/step - loss: 2707.7568\n",
      "Epoch 13/100\n",
      "4/4 [==============================] - 0s 3ms/step - loss: 2707.4553\n",
      "Epoch 14/100\n",
      "4/4 [==============================] - 0s 3ms/step - loss: 2702.5762\n",
      "Epoch 15/100\n",
      "4/4 [==============================] - 0s 3ms/step - loss: 2725.9031\n",
      "Epoch 16/100\n",
      "4/4 [==============================] - 0s 3ms/step - loss: 2715.5918\n",
      "Epoch 17/100\n",
      "4/4 [==============================] - 0s 3ms/step - loss: 2681.1104\n",
      "Epoch 18/100\n",
      "4/4 [==============================] - 0s 3ms/step - loss: 2682.5498\n",
      "Epoch 19/100\n",
      "4/4 [==============================] - 0s 3ms/step - loss: 2705.0193\n",
      "Epoch 20/100\n",
      "4/4 [==============================] - 0s 3ms/step - loss: 2698.7178\n",
      "Epoch 21/100\n",
      "4/4 [==============================] - 0s 3ms/step - loss: 2683.1562\n",
      "Epoch 22/100\n",
      "4/4 [==============================] - 0s 4ms/step - loss: 2680.3325\n",
      "Epoch 23/100\n",
      "4/4 [==============================] - ETA: 0s - loss: 2481.02 - 0s 3ms/step - loss: 2667.1128\n",
      "Epoch 24/100\n",
      "4/4 [==============================] - 0s 4ms/step - loss: 2664.5125\n",
      "Epoch 25/100\n",
      "4/4 [==============================] - 0s 3ms/step - loss: 2684.9678\n",
      "Epoch 26/100\n",
      "4/4 [==============================] - 0s 3ms/step - loss: 2697.0481\n",
      "Epoch 27/100\n",
      "4/4 [==============================] - 0s 3ms/step - loss: 2702.2993\n",
      "Epoch 28/100\n",
      "4/4 [==============================] - 0s 3ms/step - loss: 2647.7815\n",
      "Epoch 29/100\n",
      "4/4 [==============================] - 0s 4ms/step - loss: 2638.6816\n",
      "Epoch 30/100\n",
      "4/4 [==============================] - 0s 4ms/step - loss: 2631.4404\n",
      "Epoch 31/100\n",
      "4/4 [==============================] - 0s 3ms/step - loss: 2686.4014\n",
      "Epoch 32/100\n",
      "4/4 [==============================] - 0s 3ms/step - loss: 2660.5315\n",
      "Epoch 33/100\n",
      "4/4 [==============================] - 0s 3ms/step - loss: 2633.9097\n",
      "Epoch 34/100\n",
      "4/4 [==============================] - 0s 3ms/step - loss: 2605.4104\n",
      "Epoch 35/100\n",
      "4/4 [==============================] - 0s 3ms/step - loss: 2598.8062\n",
      "Epoch 36/100\n",
      "4/4 [==============================] - 0s 3ms/step - loss: 2604.7363\n",
      "Epoch 37/100\n",
      "4/4 [==============================] - 0s 3ms/step - loss: 2610.7407\n",
      "Epoch 38/100\n",
      "4/4 [==============================] - 0s 3ms/step - loss: 2619.5266\n",
      "Epoch 39/100\n",
      "4/4 [==============================] - 0s 3ms/step - loss: 2617.3257\n",
      "Epoch 40/100\n",
      "4/4 [==============================] - 0s 3ms/step - loss: 2616.6731\n",
      "Epoch 41/100\n",
      "4/4 [==============================] - 0s 3ms/step - loss: 2596.1338\n",
      "Epoch 42/100\n",
      "4/4 [==============================] - 0s 3ms/step - loss: 2579.6277\n",
      "Epoch 43/100\n",
      "4/4 [==============================] - 0s 3ms/step - loss: 2585.1147\n",
      "Epoch 44/100\n",
      "4/4 [==============================] - 0s 3ms/step - loss: 2577.2117\n",
      "Epoch 45/100\n",
      "4/4 [==============================] - 0s 3ms/step - loss: 2569.9253\n",
      "Epoch 46/100\n",
      "4/4 [==============================] - 0s 3ms/step - loss: 2581.7024\n",
      "Epoch 47/100\n",
      "4/4 [==============================] - 0s 3ms/step - loss: 2645.3564\n",
      "Epoch 48/100\n",
      "4/4 [==============================] - 0s 3ms/step - loss: 2627.6843\n",
      "Epoch 49/100\n",
      "4/4 [==============================] - 0s 3ms/step - loss: 2606.0701\n",
      "Epoch 50/100\n",
      "4/4 [==============================] - 0s 3ms/step - loss: 2568.3384\n",
      "Epoch 51/100\n",
      "4/4 [==============================] - 0s 3ms/step - loss: 2538.4329\n",
      "Epoch 52/100\n",
      "4/4 [==============================] - 0s 3ms/step - loss: 2537.9561\n",
      "Epoch 53/100\n",
      "4/4 [==============================] - 0s 3ms/step - loss: 2555.4536\n",
      "Epoch 54/100\n",
      "4/4 [==============================] - 0s 3ms/step - loss: 2554.7935\n",
      "Epoch 55/100\n",
      "4/4 [==============================] - 0s 3ms/step - loss: 2541.9556\n",
      "Epoch 56/100\n",
      "4/4 [==============================] - 0s 3ms/step - loss: 2535.6592\n",
      "Epoch 57/100\n",
      "4/4 [==============================] - 0s 3ms/step - loss: 2512.1655\n",
      "Epoch 58/100\n",
      "4/4 [==============================] - 0s 3ms/step - loss: 2527.6895\n",
      "Epoch 59/100\n",
      "4/4 [==============================] - 0s 3ms/step - loss: 2534.4807\n",
      "Epoch 60/100\n",
      "4/4 [==============================] - 0s 3ms/step - loss: 2527.0898\n",
      "Epoch 61/100\n",
      "4/4 [==============================] - 0s 3ms/step - loss: 2531.3188\n",
      "Epoch 62/100\n",
      "4/4 [==============================] - 0s 3ms/step - loss: 2543.8135\n",
      "Epoch 63/100\n",
      "4/4 [==============================] - 0s 3ms/step - loss: 2555.1975\n",
      "Epoch 64/100\n",
      "4/4 [==============================] - 0s 3ms/step - loss: 2541.8328\n",
      "Epoch 65/100\n",
      "4/4 [==============================] - 0s 3ms/step - loss: 2459.4758\n",
      "Epoch 66/100\n",
      "4/4 [==============================] - 0s 3ms/step - loss: 2552.6470\n",
      "Epoch 67/100\n",
      "4/4 [==============================] - 0s 3ms/step - loss: 2585.4060\n",
      "Epoch 68/100\n",
      "4/4 [==============================] - 0s 3ms/step - loss: 2586.8081\n",
      "Epoch 69/100\n",
      "4/4 [==============================] - 0s 3ms/step - loss: 2512.0205\n",
      "Epoch 70/100\n",
      "4/4 [==============================] - 0s 2ms/step - loss: 2469.3232\n",
      "Epoch 71/100\n",
      "4/4 [==============================] - 0s 3ms/step - loss: 2478.9307\n",
      "Epoch 72/100\n",
      "4/4 [==============================] - 0s 3ms/step - loss: 2494.8525\n",
      "Epoch 73/100\n",
      "4/4 [==============================] - 0s 3ms/step - loss: 2519.0549\n",
      "Epoch 74/100\n",
      "4/4 [==============================] - 0s 3ms/step - loss: 2503.8694\n",
      "Epoch 75/100\n",
      "4/4 [==============================] - 0s 3ms/step - loss: 2477.5186\n",
      "Epoch 76/100\n",
      "4/4 [==============================] - 0s 3ms/step - loss: 2459.1365\n",
      "Epoch 77/100\n",
      "4/4 [==============================] - 0s 3ms/step - loss: 2467.4514\n",
      "Epoch 78/100\n",
      "4/4 [==============================] - 0s 3ms/step - loss: 2518.4458\n",
      "Epoch 79/100\n",
      "4/4 [==============================] - 0s 3ms/step - loss: 2488.2913\n",
      "Epoch 80/100\n",
      "4/4 [==============================] - ETA: 0s - loss: 3820.16 - 0s 3ms/step - loss: 2420.3652\n",
      "Epoch 81/100\n",
      "4/4 [==============================] - 0s 3ms/step - loss: 2403.3669\n",
      "Epoch 82/100\n",
      "4/4 [==============================] - 0s 3ms/step - loss: 2415.6267\n",
      "Epoch 83/100\n",
      "4/4 [==============================] - 0s 3ms/step - loss: 2431.3730\n",
      "Epoch 84/100\n",
      "4/4 [==============================] - 0s 3ms/step - loss: 2428.3423\n",
      "Epoch 85/100\n",
      "4/4 [==============================] - 0s 5ms/step - loss: 2408.0806\n",
      "Epoch 86/100\n",
      "4/4 [==============================] - 0s 3ms/step - loss: 2390.6074\n",
      "Epoch 87/100\n",
      "4/4 [==============================] - 0s 3ms/step - loss: 2384.7832\n",
      "Epoch 88/100\n",
      "4/4 [==============================] - 0s 3ms/step - loss: 2404.7246\n",
      "Epoch 89/100\n",
      "4/4 [==============================] - 0s 3ms/step - loss: 2403.2720\n",
      "Epoch 90/100\n",
      "4/4 [==============================] - 0s 3ms/step - loss: 2446.7290\n",
      "Epoch 91/100\n",
      "4/4 [==============================] - 0s 3ms/step - loss: 2490.2007\n",
      "Epoch 92/100\n",
      "4/4 [==============================] - 0s 3ms/step - loss: 2489.1028\n",
      "Epoch 93/100\n",
      "4/4 [==============================] - 0s 3ms/step - loss: 2495.3918\n",
      "Epoch 94/100\n",
      "4/4 [==============================] - 0s 3ms/step - loss: 2504.7847\n",
      "Epoch 95/100\n",
      "4/4 [==============================] - 0s 3ms/step - loss: 2481.8250\n",
      "Epoch 96/100\n",
      "4/4 [==============================] - 0s 3ms/step - loss: 2462.3362\n",
      "Epoch 97/100\n",
      "4/4 [==============================] - 0s 3ms/step - loss: 2437.5461\n",
      "Epoch 98/100\n",
      "4/4 [==============================] - 0s 3ms/step - loss: 2392.0225\n",
      "Epoch 99/100\n",
      "4/4 [==============================] - 0s 3ms/step - loss: 2362.9851\n",
      "Epoch 100/100\n",
      "4/4 [==============================] - 0s 3ms/step - loss: 2348.8889\n"
     ]
    },
    {
     "data": {
      "text/plain": [
       "<tensorflow.python.keras.callbacks.History object at 0x00000165A054D970>"
      ]
     },
     "execution_count": 5,
     "metadata": {},
     "output_type": "execute_result"
    }
   ],
   "source": [
    "# Construction du modèle\n",
    "model = tf.keras.models.Sequential([\n",
    "    \n",
    "])\n",
    "\n",
    "# \"Compilation\" du modèle: On indique quelle fonction de perte et quel optimisateur utiliser.\n",
    "model.compile(\n",
    "    \n",
    ")\n",
    "\n",
    "# Entrainement\n"
   ]
  },
  {
   "cell_type": "markdown",
   "metadata": {},
   "source": [
    "Regardons maintenant si le modèle a bien appris."
   ]
  },
  {
   "cell_type": "code",
   "execution_count": 16,
   "metadata": {
    "scrolled": true
   },
   "outputs": [
    {
     "data": {
      "text/plain": [
       "<matplotlib.legend.Legend object at 0x00000167749A9520>"
      ]
     },
     "execution_count": 16,
     "metadata": {},
     "output_type": "execute_result"
    },
    {
     "data": {
      "image/png": "[encoded data removed]",
      "text/plain": [
       "<Figure size 432x288 with 1 Axes>"
      ]
     },
     "metadata": {
      "needs_background": "light"
     },
     "output_type": "display_data"
    }
   ],
   "source": [
    "y_pred = model.predict(X)\n",
    "\n",
    "plt.plot(np.sort(X, 0), true_function(np.sort(X, 0)), label=\"Vraie fonction\")\n",
    "plt.scatter(X, y_pred, label=\"Prédiction\", c=\"C1\")\n",
    "plt.legend()"
   ]
  },
  {
   "cell_type": "code",
   "execution_count": null,
   "metadata": {},
   "outputs": [],
   "source": []
  }
 ],
 "metadata": {
  "kernelspec": {
   "display_name": "Python 3",
   "language": "python",
   "name": "python3"
  },
  "language_info": {
   "codemirror_mode": {
    "name": "ipython",
    "version": 3
   },
   "file_extension": ".py",
   "mimetype": "text/x-python",
   "name": "python",
   "nbconvert_exporter": "python",
   "pygments_lexer": "ipython3",
   "version": "3.7.7"
  },
  "varInspector": {
   "cols": {
    "lenName": 16,
    "lenType": 16,
    "lenVar": 40
   },
   "kernels_config": {
    "python": {
     "delete_cmd_postfix": "",
     "delete_cmd_prefix": "del ",
     "library": "var_list.py",
     "varRefreshCmd": "print(var_dic_list())"
    },
    "r": {
     "delete_cmd_postfix": ") ",
     "delete_cmd_prefix": "rm(",
     "library": "var_list.r",
     "varRefreshCmd": "cat(var_dic_list()) "
    }
   },
   "types_to_exclude": [
    "module",
    "function",
    "builtin_function_or_method",
    "instance",
    "_Feature"
   ],
   "window_display": false
  }
 },
 "nbformat": 4,
 "nbformat_minor": 4
}
